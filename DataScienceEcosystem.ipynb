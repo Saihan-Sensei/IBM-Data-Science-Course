{
 "cells": [
  {
   "cell_type": "markdown",
   "id": "8cc3db2c-694b-44b8-bb10-4b7c1b6a9bae",
   "metadata": {},
   "source": [
    "# Peer-graded Assignment"
   ]
  },
  {
   "cell_type": "markdown",
   "id": "2e439928-6b16-48b0-8bd9-cdb134d5c14a",
   "metadata": {},
   "source": [
    "This course introduced you to multiple data science tools, and in this final project, you will use Jupyterlite Notebook, one of the easiest tools to share publicly."
   ]
  },
  {
   "cell_type": "markdown",
   "id": "3f7cf88a-a114-4873-8bff-f7c3f710ccca",
   "metadata": {},
   "source": [
    "## Data Science Languages\n",
    "- Python  \n",
    "- R  \n",
    "- SQL  \n",
    "- Julia  "
   ]
  },
  {
   "cell_type": "markdown",
   "id": "edf0cf90-3f7b-4627-a45d-5278f73fe797",
   "metadata": {},
   "source": [
    "## Arithmetic Expression Examples\n",
    "Below are some basic arithmetic expressions:\n",
    "- Addition (+)  \n",
    "- Subtraction (-)  \n",
    "- Multiplication (*)  \n",
    "- Division (/)  \n"
   ]
  },
  {
   "cell_type": "markdown",
   "id": "e38b2e64-98cb-4feb-96cf-5b3f105404f5",
   "metadata": {},
   "source": [
    "## Data Science Libraries\n",
    "- NumPy  \n",
    "- Pandas  \n",
    "- Matplotlib  \n",
    "- ggplot2  \n",
    "- Scikit-learn  \n",
    "- TensorFlow  \n"
   ]
  },
  {
   "cell_type": "markdown",
   "id": "0d61745c-edf2-4695-add8-8cd355165e47",
   "metadata": {},
   "source": [
    "## Data Science Tools\n",
    "\n",
    "| Tool           | Purpose                          |\n",
    "|----------------|----------------------------------|\n",
    "| Jupyter        | Interactive notebooks            |\n",
    "| RStudio        | R programming IDE                |\n",
    "| TensorFlow     | Machine Learning library         |\n",
    "| Apache Spark   | Big Data processing              |\n",
    "| Tableau        | Data Visualization               |\n"
   ]
  },
  {
   "cell_type": "code",
   "execution_count": 3,
   "id": "9ff50a78-e219-4d30-96ba-a590141d840c",
   "metadata": {},
   "outputs": [
    {
     "data": {
      "text/plain": [
       "2.0"
      ]
     },
     "execution_count": 3,
     "metadata": {},
     "output_type": "execute_result"
    }
   ],
   "source": [
    "# Convert minutes to hours\n",
    "minutes = 120\n",
    "hours = minutes / 60\n",
    "hours\n"
   ]
  },
  {
   "cell_type": "markdown",
   "id": "4baaaa1d-b784-4f5a-8812-a319b0bd00a8",
   "metadata": {},
   "source": [
    "## Objectives\n",
    "- List popular languages used in Data Science  \n",
    "- Identify common libraries for Data Science  \n",
    "- Demonstrate arithmetic operations in Python  \n",
    "- Convert minutes into hours using Python  \n"
   ]
  },
  {
   "cell_type": "markdown",
   "id": "27880033-f995-48a9-b89b-1f5a2175a59d",
   "metadata": {},
   "source": [
    "## Author\n",
    "Mohammad Saihan \n"
   ]
  }
 ],
 "metadata": {
  "kernelspec": {
   "display_name": "Python 3 (ipykernel)",
   "language": "python",
   "name": "python3"
  },
  "language_info": {
   "codemirror_mode": {
    "name": "ipython",
    "version": 3
   },
   "file_extension": ".py",
   "mimetype": "text/x-python",
   "name": "python",
   "nbconvert_exporter": "python",
   "pygments_lexer": "ipython3",
   "version": "3.12.7"
  }
 },
 "nbformat": 4,
 "nbformat_minor": 5
}
